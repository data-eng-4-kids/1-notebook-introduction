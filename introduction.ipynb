{
  "nbformat": 4,
  "nbformat_minor": 0,
  "metadata": {
    "colab": {
      "name": "Untitled0.ipynb",
      "provenance": [],
      "authorship_tag": "ABX9TyNU+cojUQ/rJar4SULFhKcg",
      "include_colab_link": true
    },
    "kernelspec": {
      "name": "python3",
      "display_name": "Python 3"
    }
  },
  "cells": [
    {
      "cell_type": "markdown",
      "metadata": {
        "id": "view-in-github",
        "colab_type": "text"
      },
      "source": [
        "<a href=\"https://colab.research.google.com/github/data-eng-4-kids/1-notebook-introduction/blob/master/introduction.ipynb\" target=\"_parent\"><img src=\"https://colab.research.google.com/assets/colab-badge.svg\" alt=\"Open In Colab\"/></a>"
      ]
    },
    {
      "cell_type": "markdown",
      "metadata": {
        "id": "3lX4X7iwC975",
        "colab_type": "text"
      },
      "source": [
        "# Introduction\n",
        "\n",
        "Welcome to our data engineering course for kids. This first chaper will teach you how to work with notebooks and the first few prograaming commands."
      ]
    },
    {
      "cell_type": "markdown",
      "metadata": {
        "id": "zJfwf3AGDA7s",
        "colab_type": "text"
      },
      "source": [
        "Let's talk about notebooks first. Notebooks are pages that may contain text and code. You can play with both and see what happens when you make changes. Each block of text or code is in cell. If it is a text cell the computer knows it has to render it make it look nice as defined by your formatting commands. If it is a code, the compuuter inteprets the commands and executes what you asked him to do.\n",
        "\n",
        "In our first code cell, we will play with the turtle. The turtle is a library that you can import and use it to make drawings. As you may command the turtle to move and paint its path.\n",
        "\n",
        "To start the turtle we need to install it, import the library to our cell and initialize it. This can be achieved with the following commands:\n",
        "\n",
        "\n"
      ]
    },
    {
      "cell_type": "code",
      "metadata": {
        "id": "oxURykGmAker",
        "colab_type": "code",
        "colab": {
          "base_uri": "https://localhost:8080/",
          "height": 538
        },
        "outputId": "c8f25f12-4466-425b-c1fb-dac3e124ace3"
      },
      "source": [
        "!pip3 install ColabTurtle\n",
        "import ColabTurtle.Turtle as turtle\n",
        "initializeTurtle()\n",
        "turtle.forward(25)\n",
        "turtle.right(90)\n",
        "turtle.forward(25)\n",
        "turtle.right(90)\n",
        "turtle.forward(25)\n",
        "turtle.right(90)\n",
        "turtle.forward(25)\n",
        "\n"
      ],
      "execution_count": 12,
      "outputs": [
        {
          "output_type": "stream",
          "text": [
            "Requirement already satisfied: ColabTurtle in /usr/local/lib/python3.6/dist-packages (2.0.0)\n"
          ],
          "name": "stdout"
        },
        {
          "output_type": "display_data",
          "data": {
            "text/html": [
              "\n",
              "      <svg width=\"800\" height=\"500\">\n",
              "        <rect width=\"100%\" height=\"100%\" fill=\"black\"/>\n",
              "        <line x1=\"400\" y1=\"250\" x2=\"400.0\" y2=\"225.0\" stroke-linecap=\"round\" style=\"stroke:white;stroke-width:4\"/><line x1=\"400.0\" y1=\"225.0\" x2=\"425.0\" y2=\"225.0\" stroke-linecap=\"round\" style=\"stroke:white;stroke-width:4\"/><line x1=\"425.0\" y1=\"225.0\" x2=\"425.0\" y2=\"250.0\" stroke-linecap=\"round\" style=\"stroke:white;stroke-width:4\"/><line x1=\"425.0\" y1=\"250.0\" x2=\"400.0\" y2=\"250.0\" stroke-linecap=\"round\" style=\"stroke:white;stroke-width:4\"/>\n",
              "        \n",
              "      <g visibility=visible transform=\"rotate(90,400.0,250.0) translate(400.0, 250.0)\">\n",
              "        <circle stroke=\"white\" stroke-width=\"3\" fill=\"transparent\" r=\"12\" cx=\"0\" cy=\"0\"/>\n",
              "        <polygon points=\"0,19 3,16 -3,16\" style=\"fill:white;stroke:white;stroke-width:2\"/>\n",
              "      </g>\n",
              "    \n",
              "      </svg>\n",
              "    "
            ],
            "text/plain": [
              "<IPython.core.display.HTML object>"
            ]
          },
          "metadata": {
            "tags": []
          }
        }
      ]
    },
    {
      "cell_type": "markdown",
      "metadata": {
        "id": "xC59CFEZCwM1",
        "colab_type": "text"
      },
      "source": [
        "# New Section"
      ]
    },
    {
      "cell_type": "markdown",
      "metadata": {
        "id": "OfBo4247Cy3U",
        "colab_type": "text"
      },
      "source": [
        ""
      ]
    }
  ]
}